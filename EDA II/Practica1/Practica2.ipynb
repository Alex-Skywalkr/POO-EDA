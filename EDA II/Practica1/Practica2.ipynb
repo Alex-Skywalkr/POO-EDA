{
 "cells": [
  {
   "cell_type": "code",
   "execution_count": 1,
   "id": "62028efd",
   "metadata": {},
   "outputs": [],
   "source": [
    "import random\n",
    "import matplotlib.pyplot as plt\n",
    "\n",
    "MAX = 1000"
   ]
  },
  {
   "cell_type": "markdown",
   "id": "d828bd37",
   "metadata": {},
   "source": [
    "### Heap Sort\n",
    "\n"
   ]
  },
  {
   "cell_type": "code",
   "execution_count": 4,
   "id": "f42913f2",
   "metadata": {},
   "outputs": [
    {
     "name": "stdout",
     "output_type": "stream",
     "text": [
      "[9, 4, 3, 8, 10, 2, 5]\n",
      "[2, 3, 4, 5, 8, 9, 10]\n"
     ]
    }
   ],
   "source": [
    "# Python program for implementation of heap Sort\n",
    "\n",
    "# To heapify a subtree rooted with node i\n",
    "# which is an index in arr[].\n",
    "def heapify(arr, n, i):\n",
    "    \n",
    "     # Initialize largest as root\n",
    "    largest = i \n",
    "    \n",
    "    #  left index = 2*i + 1\n",
    "    l = 2 * i + 1 \n",
    "    \n",
    "    # right index = 2*i + 2\n",
    "    r = 2 * i + 2  \n",
    "\n",
    "    # If left child is larger than root\n",
    "    if l < n and arr[l] > arr[largest]:\n",
    "        largest = l\n",
    "\n",
    "    # If right child is larger than largest so far\n",
    "    if r < n and arr[r] > arr[largest]:\n",
    "        largest = r\n",
    "\n",
    "    # If largest is not root\n",
    "    if largest != i:\n",
    "        arr[i], arr[largest] = arr[largest], arr[i]  # Swap\n",
    "\n",
    "        # Recursively heapify the affected sub-tree\n",
    "        heapify(arr, n, largest)\n",
    "\n",
    "# Main function to do heap sort\n",
    "def heapSort(arr):\n",
    "    \n",
    "    n = len(arr) \n",
    "\n",
    "    # Build heap (rearrange array)\n",
    "    for i in range(n // 2 - 1, -1, -1):\n",
    "        heapify(arr, n, i)\n",
    "\n",
    "    # One by one extract an element from heap\n",
    "    for i in range(n - 1, 0, -1):\n",
    "      \n",
    "        # Move root to end\n",
    "        arr[0], arr[i] = arr[i], arr[0] \n",
    "\n",
    "        # Call max heapify on the reduced heap\n",
    "        heapify(arr, i, 0)\n",
    "\n",
    "\n",
    "# Driver's code\n",
    "arr = [9, 4, 3, 8, 10, 2, 5] \n",
    "print(arr)\n",
    "heapSort(arr)\n",
    "print(arr)"
   ]
  }
 ],
 "metadata": {
  "kernelspec": {
   "display_name": "base",
   "language": "python",
   "name": "python3"
  },
  "language_info": {
   "codemirror_mode": {
    "name": "ipython",
    "version": 3
   },
   "file_extension": ".py",
   "mimetype": "text/x-python",
   "name": "python",
   "nbconvert_exporter": "python",
   "pygments_lexer": "ipython3",
   "version": "3.12.7"
  }
 },
 "nbformat": 4,
 "nbformat_minor": 5
}
